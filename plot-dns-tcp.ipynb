{
 "cells": [
  {
   "cell_type": "code",
   "execution_count": 2,
   "metadata": {},
   "outputs": [],
   "source": [
    "import json"
   ]
  },
  {
   "cell_type": "code",
   "execution_count": 3,
   "metadata": {},
   "outputs": [],
   "source": [
    "def load_results_from_json(input_file):\n",
    "    with open(input_file, \"r\") as jsonfile:\n",
    "        return json.load(jsonfile)"
   ]
  },
  {
   "cell_type": "code",
   "execution_count": 7,
   "metadata": {},
   "outputs": [
    {
     "name": "stdout",
     "output_type": "stream",
     "text": [
      "Number of TCP Answers: 39\n",
      "Number of TC bit set to 1 Answers: 39\n",
      "Number of TCP Queries: 39\n",
      "Number of Master Domains: 18\n",
      "{'bing.com', 'youtube.com', 'quantcount.com', 'erome.com', 'pubmatic.com', 'mikrotik.com', 'stackadapt.com', 'fitbit.com', 'amazonaws.com', 'ixigua.com', 'tenor.com', 'nvidia.com', 'sectigo.com', 'nest.com', 'trendmicro.com', 'ssl.com', '360yield.com', 'adguard.com'}\n",
      "Number of Sub Domains: 13\n",
      "{\"'images.nvidia.cn.'\", \"'img.youtube.com.'\", \"'storage.googleapis.com.'\", \"'mannequin.storage.googleapis.com.'\", \"'media.tenor.com.'\", \"'erome.com.'\", \"'quantcount.com.'\", \"'sf1-cdn-tos.douyinstatic.com.'\", \"'maps.googleapis.com.'\", \"'www.youtube.com.'\", \"'i.ytimg.com.'\", \"'www.bing.com.'\", \"'st.agrd.eu.'\"}\n"
     ]
    }
   ],
   "source": [
    "json_file = \"find-dns-tcp.json\"\n",
    "dic = load_results_from_json(json_file)\n",
    "\n",
    "tcp_answer_counts = 0\n",
    "tcp_query_counts = 0\n",
    "tcp_tc_bit_set_counts = 0\n",
    "master_domains_set = set()\n",
    "sub_domains_set = set()\n",
    "\n",
    "for master_domain in dic[\"answer\"][\"TCP\"]:\n",
    "    tcp_answer_counts += len(dic[\"answer\"][\"TCP\"][master_domain])\n",
    "    master_domains_set.add(master_domain)\n",
    "    for sub_domain_list in dic[\"answer\"][\"TCP\"][master_domain]:\n",
    "        sub_domains_set.add(sub_domain_list[0])\n",
    "\n",
    "for master_domain in dic[\"question\"][\"TCP\"]:\n",
    "    tcp_query_counts += len(dic[\"question\"][\"TCP\"][master_domain])\n",
    "    master_domains_set.add(master_domain)\n",
    "    for sub_domain_list in dic[\"question\"][\"TCP\"][master_domain]:\n",
    "        sub_domains_set.add(sub_domain_list[0])\n",
    "\n",
    "for master_domain in dic[\"answer\"][\"TC_bit_set\"]:\n",
    "    tcp_tc_bit_set_counts += len(dic[\"answer\"][\"TC_bit_set\"][master_domain])\n",
    "    master_domains_set.add(master_domain)\n",
    "    for sub_domain_list in dic[\"answer\"][\"TC_bit_set\"][master_domain]:\n",
    "        sub_domains_set.add(sub_domain_list[0])\n",
    "\n",
    "\n",
    "print(f\"Number of TCP Answers: {tcp_answer_counts}\")\n",
    "print(f\"Number of TC bit set to 1 Answers: {tcp_tc_bit_set_counts}\")\n",
    "print(f\"Number of TCP Queries: {tcp_query_counts}\")\n",
    "print(f\"Number of Master Domains: {len(master_domains_set)}\")\n",
    "print(master_domains_set)\n",
    "print(f\"Number of Sub Domains: {len(sub_domains_set)}\")\n",
    "print(sub_domains_set)"
   ]
  },
  {
   "cell_type": "code",
   "execution_count": 14,
   "metadata": {},
   "outputs": [
    {
     "name": "stdout",
     "output_type": "stream",
     "text": [
      "Query Types: {'AAAA': {\"'images.nvidia.cn.'\", \"'img.youtube.com.'\", \"'storage.googleapis.com.'\", \"'mannequin.storage.googleapis.com.'\", \"'media.tenor.com.'\", \"'erome.com.'\", \"'quantcount.com.'\", \"'sf1-cdn-tos.douyinstatic.com.'\", \"'maps.googleapis.com.'\", \"'www.youtube.com.'\", \"'i.ytimg.com.'\", \"'www.bing.com.'\", \"'st.agrd.eu.'\"}, 'A': {\"'quantcount.com.'\"}}\n"
     ]
    }
   ],
   "source": [
    "query_type_dict = dict()\n",
    "for master_domain in dic[\"question\"][\"TCP\"]:\n",
    "    for sub_domain_list in dic[\"question\"][\"TCP\"][master_domain]:\n",
    "        # print(sub_domain_list[3])\n",
    "        try:\n",
    "            query_type_dict[str(sub_domain_list[3][\"qd\"].split()[2].split(\"=\")[1])].add(sub_domain_list[0])\n",
    "        except:\n",
    "            query_type_dict[str(sub_domain_list[3][\"qd\"].split()[2].split(\"=\")[1])] = {sub_domain_list[0]}\n",
    "\n",
    "print(f\"Query Types: {query_type_dict}\")"
   ]
  },
  {
   "cell_type": "code",
   "execution_count": 16,
   "metadata": {},
   "outputs": [
    {
     "name": "stdout",
     "output_type": "stream",
     "text": [
      "% of TCP queries: 0.2257336343115124\n"
     ]
    }
   ],
   "source": [
    "total_dns_queries = 17277\n",
    "total_dns_queries_tcp = 39\n",
    "fraction_of_tcp_queries = total_dns_queries_tcp / total_dns_queries\n",
    "print(f\"% of TCP queries: {fraction_of_tcp_queries*100}\")"
   ]
  },
  {
   "cell_type": "code",
   "execution_count": null,
   "metadata": {},
   "outputs": [],
   "source": []
  }
 ],
 "metadata": {
  "kernelspec": {
   "display_name": ".venv",
   "language": "python",
   "name": "python3"
  },
  "language_info": {
   "codemirror_mode": {
    "name": "ipython",
    "version": 3
   },
   "file_extension": ".py",
   "mimetype": "text/x-python",
   "name": "python",
   "nbconvert_exporter": "python",
   "pygments_lexer": "ipython3",
   "version": "3.12.7"
  }
 },
 "nbformat": 4,
 "nbformat_minor": 2
}
