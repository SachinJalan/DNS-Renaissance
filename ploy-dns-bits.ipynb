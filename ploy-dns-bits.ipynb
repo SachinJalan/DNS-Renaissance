{
 "cells": [
  {
   "cell_type": "code",
   "execution_count": 1,
   "metadata": {},
   "outputs": [],
   "source": [
    "import json"
   ]
  },
  {
   "cell_type": "code",
   "execution_count": 2,
   "metadata": {},
   "outputs": [],
   "source": [
    "def load_results_from_json(input_file):\n",
    "    with open(input_file, \"r\") as jsonfile:\n",
    "        return json.load(jsonfile)"
   ]
  },
  {
   "cell_type": "code",
   "execution_count": 3,
   "metadata": {},
   "outputs": [],
   "source": [
    "json_file = \"dns-bits.json\"\n",
    "dic = load_results_from_json(json_file)"
   ]
  },
  {
   "cell_type": "code",
   "execution_count": 4,
   "metadata": {},
   "outputs": [],
   "source": [
    "bit_Sizes = {\"qr\":1, \"aa\":1, \"tc\":1, \"rd\":1, \"ra\":1, \"z\":3, \"qdcount\":16, \"ancount\":16, \"nscount\":16, \"arcount\":16}"
   ]
  },
  {
   "cell_type": "code",
   "execution_count": null,
   "metadata": {},
   "outputs": [],
   "source": [
    "total_dns_answer_packets = 17150\n",
    "total_dns_query_packets = 17277\n",
    "# DOUBT IN QUERY PART (NEED TO ASK SIR)\n",
    "\n",
    "# aa is always 0 in our observation\n",
    "# z is always 0 in our observation\n",
    "# qdcount is always 1 in our observation\n",
    "# nscount is always 0 in our observation\n",
    "# arcount is always 0 in our observation\n",
    "\n",
    "# This means that 1 + 3 + 16 + 16 + 16 = 52 bits almost 7 bytes are always fixed in our observation (wasted per query)\n"
   ]
  }
 ],
 "metadata": {
  "kernelspec": {
   "display_name": ".venv",
   "language": "python",
   "name": "python3"
  },
  "language_info": {
   "codemirror_mode": {
    "name": "ipython",
    "version": 3
   },
   "file_extension": ".py",
   "mimetype": "text/x-python",
   "name": "python",
   "nbconvert_exporter": "python",
   "pygments_lexer": "ipython3",
   "version": "3.12.7"
  }
 },
 "nbformat": 4,
 "nbformat_minor": 2
}
