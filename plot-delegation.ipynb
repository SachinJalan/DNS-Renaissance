{
 "cells": [
  {
   "cell_type": "code",
   "execution_count": 1,
   "metadata": {},
   "outputs": [],
   "source": [
    "import pandas as pd\n",
    "import matplotlib.pyplot as plt\n",
    "import seaborn as sns"
   ]
  },
  {
   "cell_type": "code",
   "execution_count": 2,
   "metadata": {},
   "outputs": [
    {
     "data": {
      "text/plain": [
       "'\\nExample entries in the csv\\nDomain,Recursive,Iterative,Delegated,Visited domains\\n163.com,0,0,0,{}\\n1drv.com,589.0,42.0,,\"{\"\"\\'onedrive.live.com.\\'\"\": {\\'recursive\\': 307.0, \\'iterative\\': 14.0, \\'delegated\\': None, \\'count\\': 1}}\"\\n1rx.io,131.0,35.0,0,\"{\"\"\\'1rx.io.\\'\"\": {\\'recursive\\': 78.0, \\'iterative\\': 17.0, \\'delegated\\': 58.45, \\'count\\': 1}}\"\\n2miners.com,1035.0,421.0,,\"{\"\"\\'2miners.com.\\'\"\": {\\'recursive\\': 50.0, \\'iterative\\': 161.0, \\'delegated\\': 26.599999999999998, \\'count\\': 3}, \"\"\\'static-l.2miners.com.\\'\"\": {\\'recursive\\': 556.0, \\'iterative\\': 122.0, \\'delegated\\': None, \\'count\\': 7}, \"\"\\'www.googletagmanager.com.\\'\"\": {\\'recursive\\': 225.0, \\'iterative\\': 59.0, \\'delegated\\': None, \\'count\\': 3}, \"\"\\'mc.yandex.ru.\\'\"\": {\\'recursive\\': 14.0, \\'iterative\\': 15.0, \\'delegated\\': None, \\'count\\': 1}}\"\\n'"
      ]
     },
     "execution_count": 2,
     "metadata": {},
     "output_type": "execute_result"
    }
   ],
   "source": [
    "'''\n",
    "Example entries in the csv\n",
    "Domain,Recursive,Iterative,Delegated,Visited domains\n",
    "163.com,0,0,0,{}\n",
    "1drv.com,589.0,42.0,,\"{\"\"'onedrive.live.com.'\"\": {'recursive': 307.0, 'iterative': 14.0, 'delegated': None, 'count': 1}}\"\n",
    "1rx.io,131.0,35.0,0,\"{\"\"'1rx.io.'\"\": {'recursive': 78.0, 'iterative': 17.0, 'delegated': 58.45, 'count': 1}}\"\n",
    "2miners.com,1035.0,421.0,,\"{\"\"'2miners.com.'\"\": {'recursive': 50.0, 'iterative': 161.0, 'delegated': 26.599999999999998, 'count': 3}, \"\"'static-l.2miners.com.'\"\": {'recursive': 556.0, 'iterative': 122.0, 'delegated': None, 'count': 7}, \"\"'www.googletagmanager.com.'\"\": {'recursive': 225.0, 'iterative': 59.0, 'delegated': None, 'count': 3}, \"\"'mc.yandex.ru.'\"\": {'recursive': 14.0, 'iterative': 15.0, 'delegated': None, 'count': 1}}\"\n",
    "'''"
   ]
  },
  {
   "cell_type": "code",
   "execution_count": 3,
   "metadata": {},
   "outputs": [],
   "source": [
    "csv_file = 'result-delegation.csv'"
   ]
  },
  {
   "cell_type": "code",
   "execution_count": 4,
   "metadata": {},
   "outputs": [
    {
     "data": {
      "text/html": [
       "<div>\n",
       "<style scoped>\n",
       "    .dataframe tbody tr th:only-of-type {\n",
       "        vertical-align: middle;\n",
       "    }\n",
       "\n",
       "    .dataframe tbody tr th {\n",
       "        vertical-align: top;\n",
       "    }\n",
       "\n",
       "    .dataframe thead th {\n",
       "        text-align: right;\n",
       "    }\n",
       "</style>\n",
       "<table border=\"1\" class=\"dataframe\">\n",
       "  <thead>\n",
       "    <tr style=\"text-align: right;\">\n",
       "      <th></th>\n",
       "      <th>Domain</th>\n",
       "      <th>Recursive</th>\n",
       "      <th>Iterative</th>\n",
       "      <th>Delegated</th>\n",
       "      <th>Visited domains</th>\n",
       "    </tr>\n",
       "  </thead>\n",
       "  <tbody>\n",
       "    <tr>\n",
       "      <th>0</th>\n",
       "      <td>163.com</td>\n",
       "      <td>0.0</td>\n",
       "      <td>0.0</td>\n",
       "      <td>0.0</td>\n",
       "      <td>{}</td>\n",
       "    </tr>\n",
       "    <tr>\n",
       "      <th>1</th>\n",
       "      <td>1drv.com</td>\n",
       "      <td>589.0</td>\n",
       "      <td>42.0</td>\n",
       "      <td>NaN</td>\n",
       "      <td>{\"'onedrive.live.com.'\": {'recursive': 307.0, ...</td>\n",
       "    </tr>\n",
       "    <tr>\n",
       "      <th>2</th>\n",
       "      <td>1rx.io</td>\n",
       "      <td>131.0</td>\n",
       "      <td>35.0</td>\n",
       "      <td>0.0</td>\n",
       "      <td>{\"'1rx.io.'\": {'recursive': 78.0, 'iterative':...</td>\n",
       "    </tr>\n",
       "    <tr>\n",
       "      <th>3</th>\n",
       "      <td>2miners.com</td>\n",
       "      <td>1035.0</td>\n",
       "      <td>421.0</td>\n",
       "      <td>NaN</td>\n",
       "      <td>{\"'2miners.com.'\": {'recursive': 50.0, 'iterat...</td>\n",
       "    </tr>\n",
       "    <tr>\n",
       "      <th>4</th>\n",
       "      <td>33across.com</td>\n",
       "      <td>3748.0</td>\n",
       "      <td>2780.0</td>\n",
       "      <td>NaN</td>\n",
       "      <td>{\"'www.33across.com.'\": {'recursive': 1061.0, ...</td>\n",
       "    </tr>\n",
       "  </tbody>\n",
       "</table>\n",
       "</div>"
      ],
      "text/plain": [
       "         Domain  Recursive  Iterative  Delegated  \\\n",
       "0       163.com        0.0        0.0        0.0   \n",
       "1      1drv.com      589.0       42.0        NaN   \n",
       "2        1rx.io      131.0       35.0        0.0   \n",
       "3   2miners.com     1035.0      421.0        NaN   \n",
       "4  33across.com     3748.0     2780.0        NaN   \n",
       "\n",
       "                                     Visited domains  \n",
       "0                                                 {}  \n",
       "1  {\"'onedrive.live.com.'\": {'recursive': 307.0, ...  \n",
       "2  {\"'1rx.io.'\": {'recursive': 78.0, 'iterative':...  \n",
       "3  {\"'2miners.com.'\": {'recursive': 50.0, 'iterat...  \n",
       "4  {\"'www.33across.com.'\": {'recursive': 1061.0, ...  "
      ]
     },
     "execution_count": 4,
     "metadata": {},
     "output_type": "execute_result"
    }
   ],
   "source": [
    "df = pd.read_csv(csv_file)\n",
    "df.head()"
   ]
  },
  {
   "cell_type": "code",
   "execution_count": 5,
   "metadata": {},
   "outputs": [
    {
     "name": "stdout",
     "output_type": "stream",
     "text": [
      "0\n",
      "Index([], dtype='int64')\n"
     ]
    }
   ],
   "source": [
    "# calculate the number of rows where delegated is non zero or NaN.\n",
    "print(df[df['Delegated'] > 0].shape[0])\n",
    "print(df[df['Delegated'] > 0].index)\n"
   ]
  },
  {
   "cell_type": "code",
   "execution_count": 6,
   "metadata": {},
   "outputs": [
    {
     "name": "stdout",
     "output_type": "stream",
     "text": [
      "         Domain  Recursive  Iterative    Delegated  \\\n",
      "0       163.com        0.0        0.0     0.000000   \n",
      "1      1drv.com      589.0       42.0   307.000000   \n",
      "2        1rx.io      131.0       35.0    58.450000   \n",
      "3   2miners.com     1035.0      421.0   821.600000   \n",
      "4  33across.com     3748.0     2780.0  3357.433333   \n",
      "\n",
      "                                     Visited domains  \n",
      "0                                                 {}  \n",
      "1  {\"'onedrive.live.com.'\": {'recursive': 307.0, ...  \n",
      "2  {\"'1rx.io.'\": {'recursive': 78.0, 'iterative':...  \n",
      "3  {\"'2miners.com.'\": {'recursive': 50.0, 'iterat...  \n",
      "4  {\"'www.33across.com.'\": {'recursive': 1061.0, ...  \n"
     ]
    }
   ],
   "source": [
    "# for each row we know that visited domains is a dictionary. We will use it's values to correct delgated. For every domain\n",
    "# in the dictionary, we will use the \"delegated\" values and if not None, if None, we will use \"recursive\" values. We will add it up and put it into \"Delegated column of datafram\"\n",
    "def get_delegated(row):\n",
    "    visited_domains = eval(row['Visited domains'])\n",
    "    delegated = 0\n",
    "    for domain in visited_domains:\n",
    "        if visited_domains[domain]['delegated'] is not None:\n",
    "            delegated += visited_domains[domain]['delegated']\n",
    "        else:\n",
    "            delegated += visited_domains[domain]['recursive']\n",
    "    return delegated\n",
    "\n",
    "df['Delegated'] = df.apply(get_delegated, axis=1)\n",
    "# df.to_csv('result-delegation-corrected.csv', index=False)\n",
    "df.head()\n"
   ]
  },
  {
   "cell_type": "code",
   "execution_count": 9,
   "metadata": {},
   "outputs": [
    {
     "data": {
      "text/html": [
       "<div>\n",
       "<style scoped>\n",
       "    .dataframe tbody tr th:only-of-type {\n",
       "        vertical-align: middle;\n",
       "    }\n",
       "\n",
       "    .dataframe tbody tr th {\n",
       "        vertical-align: top;\n",
       "    }\n",
       "\n",
       "    .dataframe thead th {\n",
       "        text-align: right;\n",
       "    }\n",
       "</style>\n",
       "<table border=\"1\" class=\"dataframe\">\n",
       "  <thead>\n",
       "    <tr style=\"text-align: right;\">\n",
       "      <th></th>\n",
       "      <th>Domain</th>\n",
       "      <th>Recursive</th>\n",
       "      <th>Iterative</th>\n",
       "      <th>Delegated</th>\n",
       "      <th>Visited domains</th>\n",
       "    </tr>\n",
       "  </thead>\n",
       "  <tbody>\n",
       "    <tr>\n",
       "      <th>1</th>\n",
       "      <td>1drv.com</td>\n",
       "      <td>589.0</td>\n",
       "      <td>42.0</td>\n",
       "      <td>307.000000</td>\n",
       "      <td>{\"'onedrive.live.com.'\": {'recursive': 307.0, ...</td>\n",
       "    </tr>\n",
       "    <tr>\n",
       "      <th>2</th>\n",
       "      <td>1rx.io</td>\n",
       "      <td>131.0</td>\n",
       "      <td>35.0</td>\n",
       "      <td>58.450000</td>\n",
       "      <td>{\"'1rx.io.'\": {'recursive': 78.0, 'iterative':...</td>\n",
       "    </tr>\n",
       "    <tr>\n",
       "      <th>3</th>\n",
       "      <td>2miners.com</td>\n",
       "      <td>1035.0</td>\n",
       "      <td>421.0</td>\n",
       "      <td>821.600000</td>\n",
       "      <td>{\"'2miners.com.'\": {'recursive': 50.0, 'iterat...</td>\n",
       "    </tr>\n",
       "    <tr>\n",
       "      <th>4</th>\n",
       "      <td>33across.com</td>\n",
       "      <td>3748.0</td>\n",
       "      <td>2780.0</td>\n",
       "      <td>3357.433333</td>\n",
       "      <td>{\"'www.33across.com.'\": {'recursive': 1061.0, ...</td>\n",
       "    </tr>\n",
       "    <tr>\n",
       "      <th>5</th>\n",
       "      <td>360.cn</td>\n",
       "      <td>214513.0</td>\n",
       "      <td>9925.0</td>\n",
       "      <td>175471.033333</td>\n",
       "      <td>{\"'www.360.cn.'\": {'recursive': 3079.0, 'itera...</td>\n",
       "    </tr>\n",
       "  </tbody>\n",
       "</table>\n",
       "</div>"
      ],
      "text/plain": [
       "         Domain  Recursive  Iterative      Delegated  \\\n",
       "1      1drv.com      589.0       42.0     307.000000   \n",
       "2        1rx.io      131.0       35.0      58.450000   \n",
       "3   2miners.com     1035.0      421.0     821.600000   \n",
       "4  33across.com     3748.0     2780.0    3357.433333   \n",
       "5        360.cn   214513.0     9925.0  175471.033333   \n",
       "\n",
       "                                     Visited domains  \n",
       "1  {\"'onedrive.live.com.'\": {'recursive': 307.0, ...  \n",
       "2  {\"'1rx.io.'\": {'recursive': 78.0, 'iterative':...  \n",
       "3  {\"'2miners.com.'\": {'recursive': 50.0, 'iterat...  \n",
       "4  {\"'www.33across.com.'\": {'recursive': 1061.0, ...  \n",
       "5  {\"'www.360.cn.'\": {'recursive': 3079.0, 'itera...  "
      ]
     },
     "execution_count": 9,
     "metadata": {},
     "output_type": "execute_result"
    }
   ],
   "source": [
    "# remove rows with 0 in delegated value\n",
    "df = df[df['Delegated'] > 0]\n",
    "df.head()"
   ]
  },
  {
   "cell_type": "code",
   "execution_count": 11,
   "metadata": {},
   "outputs": [
    {
     "data": {
      "text/plain": [
       "(779, 5)"
      ]
     },
     "execution_count": 11,
     "metadata": {},
     "output_type": "execute_result"
    }
   ],
   "source": [
    "df.shape"
   ]
  },
  {
   "cell_type": "code",
   "execution_count": 13,
   "metadata": {},
   "outputs": [],
   "source": [
    "df[\"Recursive\"] = df[\"Recursive\"]/1000\n",
    "df[\"Iterative\"] = df[\"Iterative\"]/1000\n",
    "df[\"Delegated\"] = df[\"Delegated\"]/1000"
   ]
  },
  {
   "cell_type": "code",
   "execution_count": 17,
   "metadata": {},
   "outputs": [
    {
     "data": {
      "image/png": "[encoded data removed]",
      "text/plain": [
       "<Figure size 1000x500 with 1 Axes>"
      ]
     },
     "metadata": {},
     "output_type": "display_data"
    }
   ],
   "source": [
    "# plot comparison of recursive, iterative and delegated. We will plot cdf of all three values in one plot vs resolution time in seconds\n",
    "plt.figure(figsize=(10, 5))\n",
    "sns.ecdfplot(data=df, x='Recursive', label='Recursive')\n",
    "sns.ecdfplot(data=df, x='Iterative', label='Iterative')\n",
    "sns.ecdfplot(data=df, x='Delegated', label='Delegated')\n",
    "plt.xlabel('Resolution time (s)')\n",
    "plt.ylabel('CDF')\n",
    "plt.Axes.set_xscale(plt.gca(), 'log')\n",
    "plt.legend()\n",
    "plt.show()\n"
   ]
  },
  {
   "cell_type": "code",
   "execution_count": 22,
   "metadata": {},
   "outputs": [
    {
     "data": {
      "image/png": "[encoded data removed]",
      "text/plain": [
       "<Figure size 1000x500 with 1 Axes>"
      ]
     },
     "metadata": {},
     "output_type": "display_data"
    }
   ],
   "source": [
    "# next plot a boc plot for recursive, iterative and delgated where mean, the standarfd deviations are ploted. X axis is the type of resolution and Y axis is the resolution time in seconds\n",
    "plt.figure(figsize=(10, 5))\n",
    "sns.boxplot(data=df[['Recursive', 'Iterative', 'Delegated']], showmeans=True, meanline=True, log_scale=True, orient='h')\n",
    "plt.ylabel('Resolution time (s)')\n",
    "plt.show()\n"
   ]
  },
  {
   "cell_type": "code",
   "execution_count": null,
   "metadata": {},
   "outputs": [],
   "source": []
  }
 ],
 "metadata": {
  "kernelspec": {
   "display_name": ".venv",
   "language": "python",
   "name": "python3"
  },
  "language_info": {
   "codemirror_mode": {
    "name": "ipython",
    "version": 3
   },
   "file_extension": ".py",
   "mimetype": "text/x-python",
   "name": "python",
   "nbconvert_exporter": "python",
   "pygments_lexer": "ipython3",
   "version": "3.12.7"
  }
 },
 "nbformat": 4,
 "nbformat_minor": 2
}
