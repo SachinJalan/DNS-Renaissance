{
 "cells": [
  {
   "cell_type": "code",
   "execution_count": 1,
   "metadata": {},
   "outputs": [],
   "source": [
    "import pandas as pd\n",
    "import matplotlib.pyplot as plt\n",
    "import seaborn as sns"
   ]
  },
  {
   "cell_type": "code",
   "execution_count": 2,
   "metadata": {},
   "outputs": [
    {
     "data": {
      "text/plain": [
       "'\\nExample entries in the csv\\nDomain,Recursive,Iterative,Delegated,Visited domains\\n163.com,0,0,0,{}\\n1drv.com,589.0,42.0,,\"{\"\"\\'onedrive.live.com.\\'\"\": {\\'recursive\\': 307.0, \\'iterative\\': 14.0, \\'delegated\\': None, \\'count\\': 1}}\"\\n1rx.io,131.0,35.0,0,\"{\"\"\\'1rx.io.\\'\"\": {\\'recursive\\': 78.0, \\'iterative\\': 17.0, \\'delegated\\': 58.45, \\'count\\': 1}}\"\\n2miners.com,1035.0,421.0,,\"{\"\"\\'2miners.com.\\'\"\": {\\'recursive\\': 50.0, \\'iterative\\': 161.0, \\'delegated\\': 26.599999999999998, \\'count\\': 3}, \"\"\\'static-l.2miners.com.\\'\"\": {\\'recursive\\': 556.0, \\'iterative\\': 122.0, \\'delegated\\': None, \\'count\\': 7}, \"\"\\'www.googletagmanager.com.\\'\"\": {\\'recursive\\': 225.0, \\'iterative\\': 59.0, \\'delegated\\': None, \\'count\\': 3}, \"\"\\'mc.yandex.ru.\\'\"\": {\\'recursive\\': 14.0, \\'iterative\\': 15.0, \\'delegated\\': None, \\'count\\': 1}}\"\\n'"
      ]
     },
     "execution_count": 2,
     "metadata": {},
     "output_type": "execute_result"
    }
   ],
   "source": [
    "'''\n",
    "Example entries in the csv\n",
    "Domain,Recursive,Iterative,Delegated,Visited domains\n",
    "163.com,0,0,0,{}\n",
    "1drv.com,589.0,42.0,,\"{\"\"'onedrive.live.com.'\"\": {'recursive': 307.0, 'iterative': 14.0, 'delegated': None, 'count': 1}}\"\n",
    "1rx.io,131.0,35.0,0,\"{\"\"'1rx.io.'\"\": {'recursive': 78.0, 'iterative': 17.0, 'delegated': 58.45, 'count': 1}}\"\n",
    "2miners.com,1035.0,421.0,,\"{\"\"'2miners.com.'\"\": {'recursive': 50.0, 'iterative': 161.0, 'delegated': 26.599999999999998, 'count': 3}, \"\"'static-l.2miners.com.'\"\": {'recursive': 556.0, 'iterative': 122.0, 'delegated': None, 'count': 7}, \"\"'www.googletagmanager.com.'\"\": {'recursive': 225.0, 'iterative': 59.0, 'delegated': None, 'count': 3}, \"\"'mc.yandex.ru.'\"\": {'recursive': 14.0, 'iterative': 15.0, 'delegated': None, 'count': 1}}\"\n",
    "'''"
   ]
  },
  {
   "cell_type": "code",
   "execution_count": 2,
   "metadata": {},
   "outputs": [],
   "source": [
    "csv_file = 'results-delegation-1.csv'"
   ]
  },
  {
   "cell_type": "code",
   "execution_count": 3,
   "metadata": {},
   "outputs": [
    {
     "data": {
      "text/html": [
       "<div>\n",
       "<style scoped>\n",
       "    .dataframe tbody tr th:only-of-type {\n",
       "        vertical-align: middle;\n",
       "    }\n",
       "\n",
       "    .dataframe tbody tr th {\n",
       "        vertical-align: top;\n",
       "    }\n",
       "\n",
       "    .dataframe thead th {\n",
       "        text-align: right;\n",
       "    }\n",
       "</style>\n",
       "<table border=\"1\" class=\"dataframe\">\n",
       "  <thead>\n",
       "    <tr style=\"text-align: right;\">\n",
       "      <th></th>\n",
       "      <th>Domain</th>\n",
       "      <th>Recursive</th>\n",
       "      <th>Iterative</th>\n",
       "      <th>Delegated</th>\n",
       "      <th>Visited domains</th>\n",
       "    </tr>\n",
       "  </thead>\n",
       "  <tbody>\n",
       "    <tr>\n",
       "      <th>0</th>\n",
       "      <td>iitgn.ac.in</td>\n",
       "      <td>1183.0</td>\n",
       "      <td>684.0</td>\n",
       "      <td>1606.5</td>\n",
       "      <td>{\"'iitgn.ac.in.'\": {'recursive': 214.0, 'itera...</td>\n",
       "    </tr>\n",
       "    <tr>\n",
       "      <th>1</th>\n",
       "      <td>2mdn.net</td>\n",
       "      <td>0.0</td>\n",
       "      <td>0.0</td>\n",
       "      <td>0.0</td>\n",
       "      <td>{}</td>\n",
       "    </tr>\n",
       "    <tr>\n",
       "      <th>2</th>\n",
       "      <td>3gppnetwork.org</td>\n",
       "      <td>0.0</td>\n",
       "      <td>0.0</td>\n",
       "      <td>0.0</td>\n",
       "      <td>{}</td>\n",
       "    </tr>\n",
       "    <tr>\n",
       "      <th>3</th>\n",
       "      <td>3lift.com</td>\n",
       "      <td>0.0</td>\n",
       "      <td>0.0</td>\n",
       "      <td>0.0</td>\n",
       "      <td>{}</td>\n",
       "    </tr>\n",
       "    <tr>\n",
       "      <th>4</th>\n",
       "      <td>a-msedge.net</td>\n",
       "      <td>0.0</td>\n",
       "      <td>0.0</td>\n",
       "      <td>0.0</td>\n",
       "      <td>{}</td>\n",
       "    </tr>\n",
       "  </tbody>\n",
       "</table>\n",
       "</div>"
      ],
      "text/plain": [
       "            Domain  Recursive  Iterative  Delegated  \\\n",
       "0      iitgn.ac.in     1183.0      684.0     1606.5   \n",
       "1         2mdn.net        0.0        0.0        0.0   \n",
       "2  3gppnetwork.org        0.0        0.0        0.0   \n",
       "3        3lift.com        0.0        0.0        0.0   \n",
       "4     a-msedge.net        0.0        0.0        0.0   \n",
       "\n",
       "                                     Visited domains  \n",
       "0  {\"'iitgn.ac.in.'\": {'recursive': 214.0, 'itera...  \n",
       "1                                                 {}  \n",
       "2                                                 {}  \n",
       "3                                                 {}  \n",
       "4                                                 {}  "
      ]
     },
     "execution_count": 3,
     "metadata": {},
     "output_type": "execute_result"
    }
   ],
   "source": [
    "df = pd.read_csv(csv_file)\n",
    "df.head()"
   ]
  },
  {
   "cell_type": "code",
   "execution_count": 4,
   "metadata": {},
   "outputs": [
    {
     "name": "stdout",
     "output_type": "stream",
     "text": [
      "778\n"
     ]
    }
   ],
   "source": [
    "# calculate the number of rows where delegated is non zero or NaN.\n",
    "print(df[df['Delegated'] > 0].shape[0])\n",
    "# print(df[df['Delegated'] > 0].index)\n"
   ]
  },
  {
   "cell_type": "code",
   "execution_count": 6,
   "metadata": {},
   "outputs": [
    {
     "name": "stdout",
     "output_type": "stream",
     "text": [
      "         Domain  Recursive  Iterative    Delegated  \\\n",
      "0       163.com        0.0        0.0     0.000000   \n",
      "1      1drv.com      589.0       42.0   307.000000   \n",
      "2        1rx.io      131.0       35.0    58.450000   \n",
      "3   2miners.com     1035.0      421.0   821.600000   \n",
      "4  33across.com     3748.0     2780.0  3357.433333   \n",
      "\n",
      "                                     Visited domains  \n",
      "0                                                 {}  \n",
      "1  {\"'onedrive.live.com.'\": {'recursive': 307.0, ...  \n",
      "2  {\"'1rx.io.'\": {'recursive': 78.0, 'iterative':...  \n",
      "3  {\"'2miners.com.'\": {'recursive': 50.0, 'iterat...  \n",
      "4  {\"'www.33across.com.'\": {'recursive': 1061.0, ...  \n"
     ]
    }
   ],
   "source": [
    "# for each row we know that visited domains is a dictionary. We will use it's values to correct delgated. For every domain\n",
    "# in the dictionary, we will use the \"delegated\" values and if not None, if None, we will use \"recursive\" values. We will add it up and put it into \"Delegated column of datafram\"\n",
    "def get_delegated(row):\n",
    "    visited_domains = eval(row['Visited domains'])\n",
    "    delegated = 0\n",
    "    for domain in visited_domains:\n",
    "        if visited_domains[domain]['delegated'] is not None:\n",
    "            delegated += visited_domains[domain]['delegated']\n",
    "        else:\n",
    "            delegated += visited_domains[domain]['recursive']\n",
    "    return delegated\n",
    "\n",
    "df['Delegated'] = df.apply(get_delegated, axis=1)\n",
    "# df.to_csv('result-delegation-corrected.csv', index=False)\n",
    "df.head()\n"
   ]
  },
  {
   "cell_type": "code",
   "execution_count": 5,
   "metadata": {},
   "outputs": [
    {
     "data": {
      "text/html": [
       "<div>\n",
       "<style scoped>\n",
       "    .dataframe tbody tr th:only-of-type {\n",
       "        vertical-align: middle;\n",
       "    }\n",
       "\n",
       "    .dataframe tbody tr th {\n",
       "        vertical-align: top;\n",
       "    }\n",
       "\n",
       "    .dataframe thead th {\n",
       "        text-align: right;\n",
       "    }\n",
       "</style>\n",
       "<table border=\"1\" class=\"dataframe\">\n",
       "  <thead>\n",
       "    <tr style=\"text-align: right;\">\n",
       "      <th></th>\n",
       "      <th>Domain</th>\n",
       "      <th>Recursive</th>\n",
       "      <th>Iterative</th>\n",
       "      <th>Delegated</th>\n",
       "      <th>Visited domains</th>\n",
       "    </tr>\n",
       "  </thead>\n",
       "  <tbody>\n",
       "    <tr>\n",
       "      <th>0</th>\n",
       "      <td>iitgn.ac.in</td>\n",
       "      <td>1183.0</td>\n",
       "      <td>684.0</td>\n",
       "      <td>1606.5</td>\n",
       "      <td>{\"'iitgn.ac.in.'\": {'recursive': 214.0, 'itera...</td>\n",
       "    </tr>\n",
       "    <tr>\n",
       "      <th>9</th>\n",
       "      <td>adobe.com</td>\n",
       "      <td>678.0</td>\n",
       "      <td>62.0</td>\n",
       "      <td>763.0</td>\n",
       "      <td>{\"'adobe.com.'\": {'recursive': 173.0, 'iterati...</td>\n",
       "    </tr>\n",
       "    <tr>\n",
       "      <th>12</th>\n",
       "      <td>adsrvr.org</td>\n",
       "      <td>1800.0</td>\n",
       "      <td>488.0</td>\n",
       "      <td>1633.0</td>\n",
       "      <td>{\"'adsrvr.org.'\": {'recursive': 569.0, 'iterat...</td>\n",
       "    </tr>\n",
       "    <tr>\n",
       "      <th>22</th>\n",
       "      <td>amazon.com</td>\n",
       "      <td>95.0</td>\n",
       "      <td>66.0</td>\n",
       "      <td>119.0</td>\n",
       "      <td>{\"'amazon.com.'\": {'recursive': 20.0, 'iterati...</td>\n",
       "    </tr>\n",
       "    <tr>\n",
       "      <th>25</th>\n",
       "      <td>amazonaws.com</td>\n",
       "      <td>1319.0</td>\n",
       "      <td>655.0</td>\n",
       "      <td>1604.0</td>\n",
       "      <td>{\"'aws.amazon.com.'\": {'recursive': 121.0, 'it...</td>\n",
       "    </tr>\n",
       "  </tbody>\n",
       "</table>\n",
       "</div>"
      ],
      "text/plain": [
       "           Domain  Recursive  Iterative  Delegated  \\\n",
       "0     iitgn.ac.in     1183.0      684.0     1606.5   \n",
       "9       adobe.com      678.0       62.0      763.0   \n",
       "12     adsrvr.org     1800.0      488.0     1633.0   \n",
       "22     amazon.com       95.0       66.0      119.0   \n",
       "25  amazonaws.com     1319.0      655.0     1604.0   \n",
       "\n",
       "                                      Visited domains  \n",
       "0   {\"'iitgn.ac.in.'\": {'recursive': 214.0, 'itera...  \n",
       "9   {\"'adobe.com.'\": {'recursive': 173.0, 'iterati...  \n",
       "12  {\"'adsrvr.org.'\": {'recursive': 569.0, 'iterat...  \n",
       "22  {\"'amazon.com.'\": {'recursive': 20.0, 'iterati...  \n",
       "25  {\"'aws.amazon.com.'\": {'recursive': 121.0, 'it...  "
      ]
     },
     "execution_count": 5,
     "metadata": {},
     "output_type": "execute_result"
    }
   ],
   "source": [
    "# remove rows with 0 in delegated value\n",
    "df = df[df['Delegated'] > 0]\n",
    "df.head()"
   ]
  },
  {
   "cell_type": "code",
   "execution_count": 6,
   "metadata": {},
   "outputs": [
    {
     "data": {
      "text/plain": [
       "(778, 5)"
      ]
     },
     "execution_count": 6,
     "metadata": {},
     "output_type": "execute_result"
    }
   ],
   "source": [
    "df.shape"
   ]
  },
  {
   "cell_type": "code",
   "execution_count": 7,
   "metadata": {},
   "outputs": [],
   "source": [
    "df[\"Recursive\"] = df[\"Recursive\"]/1000\n",
    "df[\"Iterative\"] = df[\"Iterative\"]/1000\n",
    "df[\"Delegated\"] = df[\"Delegated\"]/1000"
   ]
  },
  {
   "cell_type": "code",
   "execution_count": 8,
   "metadata": {},
   "outputs": [
    {
     "data": {
      "image/png": "[encoded data removed]",
      "text/plain": [
       "<Figure size 1000x500 with 1 Axes>"
      ]
     },
     "metadata": {},
     "output_type": "display_data"
    }
   ],
   "source": [
    "# plot comparison of recursive, iterative and delegated. We will plot cdf of all three values in one plot vs resolution time in seconds\n",
    "plt.figure(figsize=(10, 5))\n",
    "sns.ecdfplot(data=df, x='Recursive', label='Recursive')\n",
    "sns.ecdfplot(data=df, x='Iterative', label='Iterative')\n",
    "sns.ecdfplot(data=df, x='Delegated', label='Delegated')\n",
    "plt.xlabel('Resolution time (s)')\n",
    "plt.ylabel('CDF')\n",
    "plt.Axes.set_xscale(plt.gca(), 'log')\n",
    "plt.legend()\n",
    "plt.show()\n"
   ]
  },
  {
   "cell_type": "code",
   "execution_count": 9,
   "metadata": {},
   "outputs": [
    {
     "data": {
      "image/png": "[encoded data removed]",
      "text/plain": [
       "<Figure size 1000x500 with 1 Axes>"
      ]
     },
     "metadata": {},
     "output_type": "display_data"
    }
   ],
   "source": [
    "# next plot a boc plot for recursive, iterative and delgated where mean, the standarfd deviations are ploted. X axis is the type of resolution and Y axis is the resolution time in seconds\n",
    "plt.figure(figsize=(10, 5))\n",
    "sns.boxplot(data=df[['Recursive', 'Iterative', 'Delegated']], showmeans=True, meanline=True, log_scale=True, orient='h')\n",
    "plt.ylabel('Resolution time (s)')\n",
    "plt.show()\n"
   ]
  },
  {
   "cell_type": "code",
   "execution_count": 12,
   "metadata": {},
   "outputs": [
    {
     "name": "stderr",
     "output_type": "stream",
     "text": [
      "/tmp/ipykernel_2772/63399719.py:2: UserWarning: Boolean Series key will be reindexed to match DataFrame index.\n",
      "  df[df['Delegated'] < df['Recursive']][df['Delegated'] < df['Iterative']]\n"
     ]
    },
    {
     "data": {
      "text/html": [
       "<div>\n",
       "<style scoped>\n",
       "    .dataframe tbody tr th:only-of-type {\n",
       "        vertical-align: middle;\n",
       "    }\n",
       "\n",
       "    .dataframe tbody tr th {\n",
       "        vertical-align: top;\n",
       "    }\n",
       "\n",
       "    .dataframe thead th {\n",
       "        text-align: right;\n",
       "    }\n",
       "</style>\n",
       "<table border=\"1\" class=\"dataframe\">\n",
       "  <thead>\n",
       "    <tr style=\"text-align: right;\">\n",
       "      <th></th>\n",
       "      <th>Domain</th>\n",
       "      <th>Recursive</th>\n",
       "      <th>Iterative</th>\n",
       "      <th>Delegated</th>\n",
       "      <th>Visited domains</th>\n",
       "    </tr>\n",
       "  </thead>\n",
       "  <tbody>\n",
       "    <tr>\n",
       "      <th>211</th>\n",
       "      <td>4dex.io</td>\n",
       "      <td>0.042</td>\n",
       "      <td>0.092</td>\n",
       "      <td>0.0370</td>\n",
       "      <td>{\"'4dex.io.'\": {'recursive': 23.0, 'iterative'...</td>\n",
       "    </tr>\n",
       "    <tr>\n",
       "      <th>235</th>\n",
       "      <td>adobedtm.com</td>\n",
       "      <td>0.100</td>\n",
       "      <td>0.139</td>\n",
       "      <td>0.0745</td>\n",
       "      <td>{\"'adobedtm.com.'\": {'recursive': 40.0, 'itera...</td>\n",
       "    </tr>\n",
       "    <tr>\n",
       "      <th>251</th>\n",
       "      <td>aiv-cdn.net</td>\n",
       "      <td>0.060</td>\n",
       "      <td>0.049</td>\n",
       "      <td>0.0445</td>\n",
       "      <td>{\"'aiv-cdn.net.'\": {'recursive': 40.0, 'iterat...</td>\n",
       "    </tr>\n",
       "    <tr>\n",
       "      <th>269</th>\n",
       "      <td>amazonvideo.com</td>\n",
       "      <td>2.416</td>\n",
       "      <td>2.583</td>\n",
       "      <td>1.5925</td>\n",
       "      <td>{\"'www.primevideo.com.'\": {'recursive': 36.0, ...</td>\n",
       "    </tr>\n",
       "    <tr>\n",
       "      <th>462</th>\n",
       "      <td>footprintdns.com</td>\n",
       "      <td>0.036</td>\n",
       "      <td>0.040</td>\n",
       "      <td>0.0325</td>\n",
       "      <td>{\"'footprintdns.com.'\": {'recursive': 20.0, 'i...</td>\n",
       "    </tr>\n",
       "    <tr>\n",
       "      <th>605</th>\n",
       "      <td>llnwi.net</td>\n",
       "      <td>0.036</td>\n",
       "      <td>0.036</td>\n",
       "      <td>0.0325</td>\n",
       "      <td>{\"'llnwi.net.'\": {'recursive': 16.0, 'iterativ...</td>\n",
       "    </tr>\n",
       "    <tr>\n",
       "      <th>644</th>\n",
       "      <td>mozgcp.net</td>\n",
       "      <td>0.033</td>\n",
       "      <td>0.032</td>\n",
       "      <td>0.0310</td>\n",
       "      <td>{\"'mozgcp.net.'\": {'recursive': 20.0, 'iterati...</td>\n",
       "    </tr>\n",
       "    <tr>\n",
       "      <th>812</th>\n",
       "      <td>signal.org</td>\n",
       "      <td>0.046</td>\n",
       "      <td>0.043</td>\n",
       "      <td>0.0410</td>\n",
       "      <td>{\"'signal.org.'\": {'recursive': 23.0, 'iterati...</td>\n",
       "    </tr>\n",
       "    <tr>\n",
       "      <th>995</th>\n",
       "      <td>zdassets.com</td>\n",
       "      <td>0.046</td>\n",
       "      <td>0.042</td>\n",
       "      <td>0.0375</td>\n",
       "      <td>{\"'zdassets.com.'\": {'recursive': 23.0, 'itera...</td>\n",
       "    </tr>\n",
       "  </tbody>\n",
       "</table>\n",
       "</div>"
      ],
      "text/plain": [
       "               Domain  Recursive  Iterative  Delegated  \\\n",
       "211           4dex.io      0.042      0.092     0.0370   \n",
       "235      adobedtm.com      0.100      0.139     0.0745   \n",
       "251       aiv-cdn.net      0.060      0.049     0.0445   \n",
       "269   amazonvideo.com      2.416      2.583     1.5925   \n",
       "462  footprintdns.com      0.036      0.040     0.0325   \n",
       "605         llnwi.net      0.036      0.036     0.0325   \n",
       "644        mozgcp.net      0.033      0.032     0.0310   \n",
       "812        signal.org      0.046      0.043     0.0410   \n",
       "995      zdassets.com      0.046      0.042     0.0375   \n",
       "\n",
       "                                       Visited domains  \n",
       "211  {\"'4dex.io.'\": {'recursive': 23.0, 'iterative'...  \n",
       "235  {\"'adobedtm.com.'\": {'recursive': 40.0, 'itera...  \n",
       "251  {\"'aiv-cdn.net.'\": {'recursive': 40.0, 'iterat...  \n",
       "269  {\"'www.primevideo.com.'\": {'recursive': 36.0, ...  \n",
       "462  {\"'footprintdns.com.'\": {'recursive': 20.0, 'i...  \n",
       "605  {\"'llnwi.net.'\": {'recursive': 16.0, 'iterativ...  \n",
       "644  {\"'mozgcp.net.'\": {'recursive': 20.0, 'iterati...  \n",
       "812  {\"'signal.org.'\": {'recursive': 23.0, 'iterati...  \n",
       "995  {\"'zdassets.com.'\": {'recursive': 23.0, 'itera...  "
      ]
     },
     "execution_count": 12,
     "metadata": {},
     "output_type": "execute_result"
    }
   ],
   "source": [
    "# Those domains who have lower delegated time than recursive time and iterative time\n",
    "df[df['Delegated'] < df['Recursive']][df['Delegated'] < df['Iterative']]"
   ]
  },
  {
   "cell_type": "code",
   "execution_count": 13,
   "metadata": {},
   "outputs": [
    {
     "ename": "TypeError",
     "evalue": "string indices must be integers, not 'str'",
     "output_type": "error",
     "traceback": [
      "\u001b[0;31m---------------------------------------------------------------------------\u001b[0m",
      "\u001b[0;31mTypeError\u001b[0m                                 Traceback (most recent call last)",
      "Cell \u001b[0;32mIn[13], line 4\u001b[0m\n\u001b[1;32m      1\u001b[0m visited_domains_df \u001b[38;5;241m=\u001b[39m pd\u001b[38;5;241m.\u001b[39mDataFrame(columns\u001b[38;5;241m=\u001b[39m[\u001b[38;5;124m'\u001b[39m\u001b[38;5;124mDomain\u001b[39m\u001b[38;5;124m'\u001b[39m, \u001b[38;5;124m'\u001b[39m\u001b[38;5;124mRecursive\u001b[39m\u001b[38;5;124m'\u001b[39m, \u001b[38;5;124m'\u001b[39m\u001b[38;5;124mIterative\u001b[39m\u001b[38;5;124m'\u001b[39m, \u001b[38;5;124m'\u001b[39m\u001b[38;5;124mDelegated\u001b[39m\u001b[38;5;124m'\u001b[39m])\n\u001b[1;32m      3\u001b[0m \u001b[38;5;28;01mfor\u001b[39;00m row \u001b[38;5;129;01min\u001b[39;00m df:\n\u001b[0;32m----> 4\u001b[0m     \u001b[38;5;28;01mfor\u001b[39;00m key, val \u001b[38;5;129;01min\u001b[39;00m \u001b[38;5;28meval\u001b[39m(\u001b[43mrow\u001b[49m\u001b[43m[\u001b[49m\u001b[38;5;124;43m\"\u001b[39;49m\u001b[38;5;124;43mVisited domains\u001b[39;49m\u001b[38;5;124;43m\"\u001b[39;49m\u001b[43m]\u001b[49m):\n\u001b[1;32m      5\u001b[0m         visited_domains_df \u001b[38;5;241m=\u001b[39m visited_domains_df\u001b[38;5;241m.\u001b[39mappend({\u001b[38;5;124m'\u001b[39m\u001b[38;5;124mDomain\u001b[39m\u001b[38;5;124m'\u001b[39m: key, \u001b[38;5;124m'\u001b[39m\u001b[38;5;124mRecursive\u001b[39m\u001b[38;5;124m'\u001b[39m: val[\u001b[38;5;124m'\u001b[39m\u001b[38;5;124mrecursive\u001b[39m\u001b[38;5;124m'\u001b[39m], \u001b[38;5;124m'\u001b[39m\u001b[38;5;124mIterative\u001b[39m\u001b[38;5;124m'\u001b[39m: val[\u001b[38;5;124m'\u001b[39m\u001b[38;5;124miterative\u001b[39m\u001b[38;5;124m'\u001b[39m], \u001b[38;5;124m'\u001b[39m\u001b[38;5;124mDelegated\u001b[39m\u001b[38;5;124m'\u001b[39m: val[\u001b[38;5;124m'\u001b[39m\u001b[38;5;124mdelegated\u001b[39m\u001b[38;5;124m'\u001b[39m]}, ignore_index\u001b[38;5;241m=\u001b[39m\u001b[38;5;28;01mTrue\u001b[39;00m)\n\u001b[1;32m      7\u001b[0m visited_domains_df\u001b[38;5;241m.\u001b[39mhead()\n",
      "\u001b[0;31mTypeError\u001b[0m: string indices must be integers, not 'str'"
     ]
    }
   ],
   "source": [
    "visited_domains_df = pd.DataFrame(columns=['Domain', 'Recursive', 'Iterative', 'Delegated'])\n",
    "\n",
    "for row in df[\"Visited domains\"]:\n",
    "    for key, val in eval(row):\n",
    "        visited_domains_df = visited_domains_df.append({'Domain': key, 'Recursive': val['recursive'], 'Iterative': val['iterative'], 'Delegated': val['delegated']}, ignore_index=True)\n",
    "\n",
    "visited_domains_df.head()\n"
   ]
  },
  {
   "cell_type": "code",
   "execution_count": null,
   "metadata": {},
   "outputs": [],
   "source": []
  }
 ],
 "metadata": {
  "kernelspec": {
   "display_name": ".venv",
   "language": "python",
   "name": "python3"
  },
  "language_info": {
   "codemirror_mode": {
    "name": "ipython",
    "version": 3
   },
   "file_extension": ".py",
   "mimetype": "text/x-python",
   "name": "python",
   "nbconvert_exporter": "python",
   "pygments_lexer": "ipython3",
   "version": "3.12.7"
  }
 },
 "nbformat": 4,
 "nbformat_minor": 2
}
